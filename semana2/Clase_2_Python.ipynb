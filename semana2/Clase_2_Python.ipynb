{
  "nbformat": 4,
  "nbformat_minor": 0,
  "metadata": {
    "colab": {
      "provenance": []
    },
    "kernelspec": {
      "name": "python3",
      "display_name": "Python 3"
    },
    "language_info": {
      "name": "python"
    }
  },
  "cells": [
    {
      "cell_type": "markdown",
      "source": [
        "#**Atajos de Markdown en Google Colab** **(Bonus)**\n",
        "Atajos más comunes de Markdown para utilizar en **Google Colab**:"
      ],
      "metadata": {
        "id": "_eN4FBnugpXu"
      }
    },
    {
      "cell_type": "markdown",
      "source": [
        "#**Títulos**\n",
        "Para crear un título, debes colocar el número de signos # correspondiente al nivel del título, seguido de un espacio y el texto del título.\n",
        "**Por ejemplo:**\n",
        "\n",
        "# Título nivel 1\n",
        "## Título nivel 2\n",
        "### Título nivel 3"
      ],
      "metadata": {
        "id": "PfiVQ_39gqcS"
      }
    },
    {
      "cell_type": "markdown",
      "source": [
        "#**Negrita** y *cursiva*\n",
        "Para resaltar texto, puedes usar los asteriscos o guiones bajos. Si colocas uno a cada lado del texto, este se mostrará en cursiva. Si colocas dos, se mostrará en negrita.\n",
        "**Por ejemplo:**\n",
        "\n",
        "*Texto en cursiva*\n",
        "**Texto en negrita**"
      ],
      "metadata": {
        "id": "PK_9kXdMgqn-"
      }
    },
    {
      "cell_type": "markdown",
      "source": [
        "#**Listas**\n",
        "Para crear listas con viñetas, puedes usar un asterisco, un guion o un signo más seguido de un espacio. Para crear listas numeradas, simplemente coloca el número seguido de un punto y un espacio.\n",
        " **Por ejemplo:**\n",
        "\n",
        "- Elemento 1\n",
        "- Elemento 2\n",
        "- Elemento 3\n",
        "\n",
        "1. Elemento 1\n",
        "2. Elemento 2\n",
        "3. Elemento 3\n"
      ],
      "metadata": {
        "id": "3dyT0yZ5gqs-"
      }
    },
    {
      "cell_type": "markdown",
      "source": [
        "#**Enlaces e imágenes**\n",
        "Para insertar un enlace, debes encerrar el texto del enlace entre corchetes y la URL entre paréntesis. Para insertar una imagen, debes usar una sintaxis similar, pero precediendo la URL con un signo de exclamación. **Por ejemplo:**\n",
        "\n",
        "[Enlace a Google](https://www.google.com)\n",
        "![Imagen de un gato](https://upload.wikimedia.org/wikipedia/commons/3/3a/Cat03.jpg)\n"
      ],
      "metadata": {
        "id": "-G0xDqLggqyf"
      }
    },
    {
      "cell_type": "markdown",
      "source": [
        "#**Código**\n",
        "Para mostrar código, puedes encerrarlo entre comillas invertidas ` o crear bloques de código usando tres comillas invertidas al principio y al final. **Por ejemplo:**\n",
        "\n",
        "`print(\"Hola mundo\")`"
      ],
      "metadata": {
        "id": "fpzXD2-FhqRo"
      }
    },
    {
      "cell_type": "markdown",
      "source": [
        "#**Citas**\n",
        "Para citar texto, debes colocar el texto entre el signo de mayor que > y un espacio. Puedes anidar citas utilizando varios signos de mayor que. **Por ejemplo:**\n",
        "> Esto es una cita\n",
        ">> Esta es una cita anidada\n"
      ],
      "metadata": {
        "id": "bj_bZ8J7hq1C"
      }
    },
    {
      "cell_type": "code",
      "source": [
        "print(\"Hola mundo\")"
      ],
      "metadata": {
        "colab": {
          "base_uri": "https://localhost:8080/"
        },
        "id": "fYqvFL0aeP_-",
        "outputId": "d6c01591-bba1-44f1-a588-33e61678c173"
      },
      "execution_count": null,
      "outputs": [
        {
          "output_type": "stream",
          "name": "stdout",
          "text": [
            "Hola mundo\n"
          ]
        }
      ]
    },
    {
      "cell_type": "code",
      "source": [
        "nombre = \"juan\"\n",
        "apellido = \"campias\"\n",
        "print(nombre, apellido)"
      ],
      "metadata": {
        "colab": {
          "base_uri": "https://localhost:8080/"
        },
        "id": "EnJc9ZnFidna",
        "outputId": "a658a7d6-1f6e-4b50-fc43-590922f89e6a"
      },
      "execution_count": null,
      "outputs": [
        {
          "output_type": "stream",
          "name": "stdout",
          "text": [
            "juan campias\n"
          ]
        }
      ]
    },
    {
      "cell_type": "code",
      "source": [
        "print(\"hola mundo\", 4.5, False, end=\"\\n\")\n",
        "print(\"Hola\")"
      ],
      "metadata": {
        "colab": {
          "base_uri": "https://localhost:8080/"
        },
        "id": "EJf-A8ktk6WP",
        "outputId": "b51568ae-f009-49cd-95d7-d053dec5a1c4"
      },
      "execution_count": null,
      "outputs": [
        {
          "output_type": "stream",
          "name": "stdout",
          "text": [
            "hola mundo 4.5 False\n",
            "Hola\n"
          ]
        }
      ]
    },
    {
      "cell_type": "code",
      "source": [
        "nombre = \"juan\"\n",
        "apellido = \"campias\"\n",
        "print(nombre, apellido)"
      ],
      "metadata": {
        "colab": {
          "base_uri": "https://localhost:8080/"
        },
        "id": "a5--2lNzvLag",
        "outputId": "5419ac97-3b40-4bb5-c68f-7afea6b77218"
      },
      "execution_count": null,
      "outputs": [
        {
          "output_type": "stream",
          "name": "stdout",
          "text": [
            "juan campias\n"
          ]
        }
      ]
    },
    {
      "cell_type": "code",
      "source": [
        "input(\"Nombre: \")"
      ],
      "metadata": {
        "colab": {
          "base_uri": "https://localhost:8080/",
          "height": 53
        },
        "id": "LxL46qiDvfbU",
        "outputId": "0a474c64-f268-4b93-89be-71fab36b8227"
      },
      "execution_count": null,
      "outputs": [
        {
          "name": "stdout",
          "output_type": "stream",
          "text": [
            "Nombre: asd\n"
          ]
        },
        {
          "output_type": "execute_result",
          "data": {
            "text/plain": [
              "'asd'"
            ],
            "application/vnd.google.colaboratory.intrinsic+json": {
              "type": "string"
            }
          },
          "metadata": {},
          "execution_count": 2
        }
      ]
    },
    {
      "cell_type": "code",
      "source": [
        "nombre = input(\"Nombre: \")\n",
        "apellido = input(\"Apellido: \")\n",
        "apellido_minus = apellido.lower()\n"
      ],
      "metadata": {
        "colab": {
          "base_uri": "https://localhost:8080/"
        },
        "id": "BeteVrFYvWgE",
        "outputId": "501ddbe1-f8f0-437f-e53a-ce76e9d420df"
      },
      "execution_count": null,
      "outputs": [
        {
          "name": "stdout",
          "output_type": "stream",
          "text": [
            "Nombre: juan\n",
            "Apellido: campias\n"
          ]
        }
      ]
    },
    {
      "cell_type": "code",
      "source": [
        "print(apellido_minus)"
      ],
      "metadata": {
        "colab": {
          "base_uri": "https://localhost:8080/"
        },
        "id": "Xh4wjdAzxC-1",
        "outputId": "a8be69b6-2be1-4200-e577-ceafb2f9cc93"
      },
      "execution_count": null,
      "outputs": [
        {
          "output_type": "stream",
          "name": "stdout",
          "text": [
            "CAMPIAS\n"
          ]
        }
      ]
    },
    {
      "cell_type": "code",
      "source": [
        "apellido.upper().count(\"s\")\n"
      ],
      "metadata": {
        "colab": {
          "base_uri": "https://localhost:8080/"
        },
        "id": "zgeczBFswwNV",
        "outputId": "a4700524-ae2a-44a5-e12a-dea991a8b430"
      },
      "execution_count": null,
      "outputs": [
        {
          "output_type": "execute_result",
          "data": {
            "text/plain": [
              "0"
            ]
          },
          "metadata": {},
          "execution_count": 11
        }
      ]
    },
    {
      "cell_type": "code",
      "source": [
        "x = \"hola\"\n",
        "y = \" mundo\"\n",
        "\n",
        "print(x+y)"
      ],
      "metadata": {
        "colab": {
          "base_uri": "https://localhost:8080/"
        },
        "id": "rQLP3MinxbCS",
        "outputId": "2373a600-b4ba-4fe0-e42c-b42ee61890dd"
      },
      "execution_count": null,
      "outputs": [
        {
          "output_type": "stream",
          "name": "stdout",
          "text": [
            "hola mundo\n"
          ]
        }
      ]
    },
    {
      "cell_type": "markdown",
      "source": [
        "#**Actividades a resolver en clase:**\n",
        "##Act1: Calcular el área de un triángulo dado su base y altura. Pedir al usuario los valores de la base y la altura utilizando la función input(). Luego, calcular el área del triángulo e imprimir el resultado."
      ],
      "metadata": {
        "id": "ocGe7VgSiutn"
      }
    },
    {
      "cell_type": "code",
      "source": [
        "#Resolver ACT1 en esta celda.\n",
        "def area_triangulo(base, altura):\n",
        "    return (base * altura) / 2\n",
        "\n",
        "base = float(input(\"Ingresa la base del triángulo: \"))\n",
        "altura = float(input(\"Ingresa la altura del triángulo: \"))\n",
        "\n",
        "area = area_triangulo(base, altura)\n",
        "print(f\"El área del triángulo es: {area}\")"
      ],
      "metadata": {
        "id": "fIWynBxjWvoy",
        "colab": {
          "base_uri": "https://localhost:8080/"
        },
        "outputId": "3d73a473-4fea-462e-8e26-2bc2468b515d"
      },
      "execution_count": null,
      "outputs": [
        {
          "output_type": "stream",
          "name": "stdout",
          "text": [
            "Ingresa la base del triángulo: 3\n",
            "Ingresa la altura del triángulo: 2\n",
            "El área del triángulo es: 3.0\n"
          ]
        }
      ]
    },
    {
      "cell_type": "markdown",
      "source": [
        "##Act2: Convertir una temperatura en grados Celsius a Fahrenheit. Pedir al usuario el valor de la temperatura en Celsius utilizando la función input(). Luego, convertir la temperatura a Fahrenheit utilizando la fórmula F = (C * 9/5) + 32 e imprimir el resultado."
      ],
      "metadata": {
        "id": "YYUMZTkIjHcc"
      }
    },
    {
      "cell_type": "code",
      "source": [
        "#Resolver ACT2 en esta celda.\n",
        "def celsius_a_fahrenheit(celsius):\n",
        "    return (celsius * 9/5) + 32\n",
        "\n",
        "celsius = float(input(\"Ingresa la temperatura en grados Celsius: \"))\n",
        "\n",
        "fahrenheit = celsius_a_fahrenheit(celsius)\n",
        "print(f\"{celsius} grados Celsius equivalen a {fahrenheit} grados Fahrenheit\")"
      ],
      "metadata": {
        "id": "KFIBRoVHjGvT"
      },
      "execution_count": null,
      "outputs": []
    },
    {
      "cell_type": "markdown",
      "source": [
        "##Act3: Escribir un programa que pida al usuario dos números y muestre por pantalla su división si el segundo número es distinto de cero, o un mensaje de error en caso contrario."
      ],
      "metadata": {
        "id": "0eoq_tNYWv2-"
      }
    },
    {
      "cell_type": "code",
      "source": [
        "num1 = float(input(\"Ingresa el primer número: \"))\n",
        "num2 = float(input(\"Ingresa el segundo número: \"))\n",
        "\n",
        "#Resolver ACT3 en esta celda.\n",
        "def division(a, b):\n",
        "    if b != 0:\n",
        "        return a / b\n",
        "    else:\n",
        "        return \"Error: No se puede dividir por cero\"\n",
        "\n",
        "resultado = division(num1, num2)\n",
        "print(resultado)"
      ],
      "metadata": {
        "id": "ZOrd2sOMyI_n"
      },
      "execution_count": null,
      "outputs": []
    },
    {
      "cell_type": "markdown",
      "source": [
        "##Act4: Realizar un programa que lea tres números distintos y nos los muestre ordenados de menor a mayor."
      ],
      "metadata": {
        "id": "_GhFfLFujkBE"
      }
    },
    {
      "cell_type": "code",
      "source": [
        "#Resolver ACT4 en esta celda.\n",
        "def ordenar_numeros(num1, num2, num3):\n",
        "    numeros = []\n",
        "    numeros.sort()\n",
        "    return numeros\n",
        "\n",
        "num1 = float(input(\"Ingresa el primer número: \"))\n",
        "num2 = float(input(\"Ingresa el segundo número: \"))\n",
        "num3 = float(input(\"Ingresa el tercer número: \"))\n",
        "\n",
        "numeros_ordenados = ordenar_numeros(num1, num2, num3)\n",
        "print(f\"Los números ordenados de menor a mayor son: {numeros_ordenados}\")"
      ],
      "metadata": {
        "id": "S3R25E61jmzq"
      },
      "execution_count": null,
      "outputs": []
    },
    {
      "cell_type": "markdown",
      "source": [
        "##Act5: Escribir un programa que lea una cadena de texto y muestre por pantalla cuántas veces aparece cada letra del alfabeto en la cadena. El programa debe ignorar los espacios y los caracteres no alfabéticos."
      ],
      "metadata": {
        "id": "P-OfAMYejkG0"
      }
    },
    {
      "cell_type": "code",
      "source": [
        "#Resolver ACT5 en esta celda.\n",
        "\n",
        "cadena_inicial = input(\"Ingrese una cadena de texto: \")\n",
        "frecuencias = {}\n",
        "cadena = cadena_inicial.lower()\n",
        "\n",
        "for caracter in cadena:\n",
        "    if 'a' <= caracter <= 'z':\n",
        "        if caracter in frecuencias:\n",
        "            frecuencias[caracter] += 1\n",
        "        else:\n",
        "            frecuencias[caracter] = 1\n",
        "lista_letras = 'abcdefghijklmñopqrstuvwxyz'\n",
        "for letra in lista_letras:\n",
        "    if letra in frecuencias:\n",
        "        print(f\"La letra '{letra}' aparece {frecuencias[letra]} veces en la cadena.\")\n",
        "    else:\n",
        "        print(f\"La letra '{letra}' no aparece en la cadena.\")"
      ],
      "metadata": {
        "id": "hLzmbXCiktG6",
        "colab": {
          "base_uri": "https://localhost:8080/"
        },
        "outputId": "061fb28c-54f9-433a-8827-8ef1e944b346"
      },
      "execution_count": null,
      "outputs": [
        {
          "output_type": "stream",
          "name": "stdout",
          "text": [
            "Ingrese una cadena de texto: asdikhjiabsdkjyavkusdyg\n",
            "La letra 'a' aparece 3 veces en la cadena.\n",
            "La letra 'b' aparece 1 veces en la cadena.\n",
            "La letra 'c' no aparece en la cadena.\n",
            "La letra 'd' aparece 3 veces en la cadena.\n",
            "La letra 'e' no aparece en la cadena.\n",
            "La letra 'f' no aparece en la cadena.\n",
            "La letra 'g' aparece 1 veces en la cadena.\n",
            "La letra 'h' aparece 1 veces en la cadena.\n",
            "La letra 'i' aparece 2 veces en la cadena.\n",
            "La letra 'j' aparece 2 veces en la cadena.\n",
            "La letra 'k' aparece 3 veces en la cadena.\n",
            "La letra 'l' no aparece en la cadena.\n",
            "La letra 'm' no aparece en la cadena.\n",
            "La letra 'ñ' no aparece en la cadena.\n",
            "La letra 'o' no aparece en la cadena.\n",
            "La letra 'p' no aparece en la cadena.\n",
            "La letra 'q' no aparece en la cadena.\n",
            "La letra 'r' no aparece en la cadena.\n",
            "La letra 's' aparece 3 veces en la cadena.\n",
            "La letra 't' no aparece en la cadena.\n",
            "La letra 'u' aparece 1 veces en la cadena.\n",
            "La letra 'v' aparece 1 veces en la cadena.\n",
            "La letra 'w' no aparece en la cadena.\n",
            "La letra 'x' no aparece en la cadena.\n",
            "La letra 'y' aparece 2 veces en la cadena.\n",
            "La letra 'z' no aparece en la cadena.\n"
          ]
        }
      ]
    },
    {
      "cell_type": "markdown",
      "source": [
        "##Act6: Escribir un programa que pida al usuario un número y muestre por pantalla su valor absoluto."
      ],
      "metadata": {
        "id": "_RjbqYe_jlAE"
      }
    },
    {
      "cell_type": "code",
      "source": [
        "#Resolver ACT6 en esta celda."
      ],
      "metadata": {
        "id": "99PiaHL0kt1t"
      },
      "execution_count": null,
      "outputs": []
    },
    {
      "cell_type": "markdown",
      "source": [
        "##Act7: Escribir un programa que pida al usuario una lista de números separados por comas y muestre por pantalla el producto de dichos números."
      ],
      "metadata": {
        "id": "59wVDzs_jlL8"
      }
    },
    {
      "cell_type": "code",
      "source": [
        "#Resolver ACT7 en esta celda."
      ],
      "metadata": {
        "id": "siHN4ochkyMj"
      },
      "execution_count": null,
      "outputs": []
    },
    {
      "cell_type": "markdown",
      "source": [
        "##Act8: Escribir un programa que pida al usuario una lista de palabras y las muestre por pantalla ordenadas alfabéticamente."
      ],
      "metadata": {
        "id": "K6j2wj94kz0U"
      }
    },
    {
      "cell_type": "code",
      "source": [
        "#Resolver ACT8 en esta celda."
      ],
      "metadata": {
        "id": "UwaDnytqkz6z"
      },
      "execution_count": null,
      "outputs": []
    }
  ]
}