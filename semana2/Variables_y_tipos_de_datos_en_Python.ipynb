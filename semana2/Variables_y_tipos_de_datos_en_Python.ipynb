{
  "nbformat": 4,
  "nbformat_minor": 0,
  "metadata": {
    "colab": {
      "provenance": []
    },
    "kernelspec": {
      "name": "python3",
      "display_name": "Python 3"
    },
    "language_info": {
      "name": "python"
    }
  },
  "cells": [
    {
      "cell_type": "code",
      "execution_count": null,
      "metadata": {
        "id": "N6nLS3iu5y1Q",
        "colab": {
          "base_uri": "https://localhost:8080/"
        },
        "outputId": "7b9ddef4-53f8-45ab-9797-99e51fe6a3b4"
      },
      "outputs": [
        {
          "output_type": "stream",
          "name": "stdout",
          "text": [
            "0 Paleta\n",
            "2 Mortadela\n",
            "4 jyq\n"
          ]
        }
      ],
      "source": [
        "lista = [\"Paleta\",\"Jamón\",\"Mortadela\",\"Queso\",\"jyq\"]  # lista\n",
        "for elemento in range(0, len(lista), 2):  # recorre elementos de lista\n",
        "    print (elemento, lista[elemento])  # muestra posición y elemento"
      ]
    },
    {
      "cell_type": "code",
      "source": [
        "print(type(lista))"
      ],
      "metadata": {
        "colab": {
          "base_uri": "https://localhost:8080/"
        },
        "id": "VaCDyjLEqsOU",
        "outputId": "ec8c5a95-d546-4861-8bc8-24c77abe93bb"
      },
      "execution_count": null,
      "outputs": [
        {
          "output_type": "stream",
          "name": "stdout",
          "text": [
            "<class 'list'>\n"
          ]
        }
      ]
    },
    {
      "cell_type": "markdown",
      "source": [
        "# Declaramos las correspondientes variables:"
      ],
      "metadata": {
        "id": "09i5KI3Y-5pV"
      }
    },
    {
      "cell_type": "code",
      "source": [
        "var1 = \"contenido\"                     #string\n",
        "var2 = 2                               #integer\n",
        "var3 = 3.14                            #float\n",
        "var_list = [var1, var2, var3]          #list\n",
        "var_tuple = (var1, var2, var3)         #tuple\n",
        "#Diccionarios: a los mismos les corresponde una clave y un valor de la forma que muestramos a continuacion variable = {clave: valor}\n",
        "thisdict = {\n",
        "  \"marca\": \"Ford\",\n",
        "  \"modelo\": \"Mustang\",\n",
        "  \"año\": 1964\n",
        "}\n",
        "\n",
        "set1 = {\"ford\", \"mustang\", 1964}\n",
        "# autos.json\n",
        "[\n",
        "  {\n",
        "  \"marca\": \"Ford\",\n",
        "  \"modelo\": \"Mustang\",\n",
        "  \"año\": 1964,\n",
        "  \"vendidos\": 5\n",
        "  },\n",
        "  {\n",
        "  \"marca\": \"Ford\",\n",
        "  \"modelo\": \"Mustang\",\n",
        "  \"año\": 1964,\n",
        "  \"vendidos\": 8\n",
        "  }\n",
        "]\n",
        "\n",
        "#booleanos:\n",
        "bool1 = True #1\n",
        "bool2 = False #0\n"
      ],
      "metadata": {
        "id": "oZyh0MzokkGC"
      },
      "execution_count": null,
      "outputs": []
    },
    {
      "cell_type": "code",
      "source": [
        "concatenado = var1 + \" concatenado\"\n",
        "print(concatenado)"
      ],
      "metadata": {
        "colab": {
          "base_uri": "https://localhost:8080/"
        },
        "id": "8omac3aVlbx5",
        "outputId": "e0426027-7492-4279-b8ed-c77859669afb"
      },
      "execution_count": null,
      "outputs": [
        {
          "output_type": "stream",
          "name": "stdout",
          "text": [
            "contenido concatenado\n"
          ]
        }
      ]
    },
    {
      "cell_type": "markdown",
      "source": [
        "#Las imprimimos:"
      ],
      "metadata": {
        "id": "lRdpdBp9_G8y"
      }
    },
    {
      "cell_type": "code",
      "source": [
        "print(var1)\n",
        "print(var2)\n",
        "print(var3)\n",
        "print(True)                            #Boolean\n",
        "print(False)                           #Bollean\n",
        "print(\"Hola Mundo\")\n"
      ],
      "metadata": {
        "colab": {
          "base_uri": "https://localhost:8080/"
        },
        "id": "32KEa2ZV6CZH",
        "outputId": "5b958e89-c034-4f8b-b94b-235e77ecc891"
      },
      "execution_count": null,
      "outputs": [
        {
          "output_type": "stream",
          "name": "stdout",
          "text": [
            "contenido\n",
            "2\n",
            "3.14\n",
            "True\n",
            "False\n",
            "Hola Mundo\n"
          ]
        }
      ]
    },
    {
      "cell_type": "markdown",
      "source": [
        "#Recorremos una lista con un iterable for:"
      ],
      "metadata": {
        "id": "hIVo9rzZ-Z1W"
      }
    },
    {
      "cell_type": "code",
      "source": [
        "#La funcion len() es equivalente a la cantidad de variables contenidas en la lista, en este caso es igual a 3.\n",
        "#La funcion range() es relativa a una continuidad desde la posicion 0 a el numero que encontramos con la funcion len() por lo que este for va a recorrer hasta la posisión 2 ya que en python comenzamos a contar desde el 0.\n",
        "var_list = [var1, var2, var3]\n",
        "\n",
        "#range(start,stop,step)\n",
        "#f strings\n",
        "for i in range(len(var_list)):\n",
        "  print(f\"{var_list[i]}\")             #con f strings llamamos a los elementos de la lista mediante etiquetas y con [i] hacemos un manejo de variables que recorre la misma uno a la vez."
      ],
      "metadata": {
        "colab": {
          "base_uri": "https://localhost:8080/"
        },
        "id": "7NdZnrWG6GLc",
        "outputId": "bb484c4f-f5c0-40c0-b6d2-7f6b64643423"
      },
      "execution_count": null,
      "outputs": [
        {
          "output_type": "stream",
          "name": "stdout",
          "text": [
            "contenido\n",
            "2\n",
            "3.14\n"
          ]
        }
      ]
    },
    {
      "cell_type": "markdown",
      "source": [
        "Funcionamiento de un bucle while:"
      ],
      "metadata": {
        "id": "wrvbFdroeSIQ"
      }
    },
    {
      "cell_type": "code",
      "source": [
        "contador = 0\n",
        "\n",
        "while contador < 3:\n",
        "    print(\"contenido del iterador\")\n",
        "    contador += 1             #En este acumulador guardamos la condición del while.\n",
        "else:\n",
        "    print(\"contenido del caso contrario\")\n",
        "#En la cuarta iteración, la condición que utilizamos en el while se convierte en False. Por lo tanto, la parte del else es ejecutada."
      ],
      "metadata": {
        "colab": {
          "base_uri": "https://localhost:8080/"
        },
        "id": "5JRwb_q3eCR4",
        "outputId": "115f6f11-bb5c-434d-eaa4-9638b19c92c3"
      },
      "execution_count": null,
      "outputs": [
        {
          "output_type": "stream",
          "name": "stdout",
          "text": [
            "contenido del iterador\n",
            "contenido del iterador\n",
            "contenido del iterador\n",
            "contenido del caso contrario\n"
          ]
        }
      ]
    },
    {
      "cell_type": "markdown",
      "source": [
        "Condicionamos en un bucle if:"
      ],
      "metadata": {
        "id": "UuQBaHhlfTES"
      }
    },
    {
      "cell_type": "code",
      "source": [
        "# Si el número es positivo, imprimimos por pantalla la sentencia correcta.\n",
        "\n",
        "num = -1            #probar tambien con -1 y con 0\n",
        "\n",
        "if num > 0:\n",
        "    print(\"Es un numero positivo\")\n",
        "elif num == 0:\n",
        "    print(\"Es neutro\")\n",
        "else:\n",
        "    print(\"Es un numero negativo\")"
      ],
      "metadata": {
        "colab": {
          "base_uri": "https://localhost:8080/"
        },
        "id": "S8uSdlC8fYFe",
        "outputId": "a570a2eb-f775-4a87-9bd0-1027a04a986e"
      },
      "execution_count": null,
      "outputs": [
        {
          "output_type": "stream",
          "name": "stdout",
          "text": [
            "Es un numero negativo\n"
          ]
        }
      ]
    },
    {
      "cell_type": "markdown",
      "source": [
        "Utilización del comando .sort() para ordenar variables contenidas en una lista."
      ],
      "metadata": {
        "id": "yVYMziqtw--q"
      }
    },
    {
      "cell_type": "code",
      "source": [
        "mi_lista = [67, 2, 999, 1, 15]            #Declaramos la lista\n",
        "\n",
        "# esto imprime la lista NO ordenada\n",
        "print(\"Lista desordenada: \", mi_lista)\n",
        "\n",
        "# Ordenemos la lista\n",
        "mi_lista.sort()\n",
        "\n",
        "# aquí tendremos la lista ordenada\n",
        "print(\"Lista Ordenada: \", mi_lista)"
      ],
      "metadata": {
        "id": "UIkzlsJ-o07D",
        "colab": {
          "base_uri": "https://localhost:8080/"
        },
        "outputId": "438013c2-df10-4f04-e464-91e59741950f"
      },
      "execution_count": null,
      "outputs": [
        {
          "output_type": "stream",
          "name": "stdout",
          "text": [
            "Lista desordenada:  [67, 2, 999, 1, 15]\n",
            "Lista Ordenada:  [1, 2, 15, 67, 999]\n"
          ]
        }
      ]
    },
    {
      "cell_type": "code",
      "source": [
        "try:\n",
        "    # Bloque de código que puede generar una excepción\n",
        "    x = 10 / 2\n",
        "    print(int(x))\n",
        "except ZeroDivisionError:\n",
        "    # Manejo de la excepción ZeroDivisionError\n",
        "    print(\"¡Error! No es posible dividir entre cero.\")"
      ],
      "metadata": {
        "colab": {
          "base_uri": "https://localhost:8080/"
        },
        "id": "TN67gtdxV0p4",
        "outputId": "26af3236-8fd8-40f4-88ae-5eee6868bdea"
      },
      "execution_count": null,
      "outputs": [
        {
          "output_type": "stream",
          "name": "stdout",
          "text": [
            "5\n"
          ]
        }
      ]
    },
    {
      "cell_type": "code",
      "source": [
        "import pandas as pd\n",
        "\n",
        "#como leer un archivo en excel\n",
        "df = pd.read_excel('file.xlsx')\n"
      ],
      "metadata": {
        "id": "97Oz6B9XB0YG"
      },
      "execution_count": null,
      "outputs": []
    },
    {
      "cell_type": "code",
      "source": [
        "# manejo de listas en python:\n",
        "\n",
        "x = [0,1,2,3,4,5,6,7,8,9]\n",
        "y = ['hola','que tal','como estás','chau']\n",
        "s = 'hola'\n",
        "#manejo de listas similar a los parametros de range(star, stop, step) stop=index\n",
        "sliced = x[1:8:2]\n",
        "print(sliced)"
      ],
      "metadata": {
        "colab": {
          "base_uri": "https://localhost:8080/"
        },
        "id": "jAux9e_raY0i",
        "outputId": "6f24250f-f626-4bf2-bb7f-76513f3aa56a"
      },
      "execution_count": null,
      "outputs": [
        {
          "output_type": "stream",
          "name": "stdout",
          "text": [
            "[1, 3, 5, 7]\n"
          ]
        }
      ]
    }
  ]
}